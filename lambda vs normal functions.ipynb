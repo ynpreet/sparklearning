{
 "cells": [
  {
   "cell_type": "code",
   "execution_count": 1,
   "metadata": {},
   "outputs": [],
   "source": [
    "def sub(x,y):\n",
    "    return abs(x-y)"
   ]
  },
  {
   "cell_type": "code",
   "execution_count": 2,
   "metadata": {},
   "outputs": [
    {
     "data": {
      "text/plain": [
       "7"
      ]
     },
     "execution_count": 2,
     "metadata": {},
     "output_type": "execute_result"
    }
   ],
   "source": [
    "sub(2,9)"
   ]
  },
  {
   "cell_type": "code",
   "execution_count": 3,
   "metadata": {},
   "outputs": [
    {
     "data": {
      "text/plain": [
       "[4, 8]"
      ]
     },
     "execution_count": 3,
     "metadata": {},
     "output_type": "execute_result"
    }
   ],
   "source": [
    "def square (x,y):\n",
    "    return [x*2,y*2]\n",
    "square(2,4)\n"
   ]
  },
  {
   "cell_type": "code",
   "execution_count": 6,
   "metadata": {},
   "outputs": [
    {
     "data": {
      "text/plain": [
       "4"
      ]
     },
     "execution_count": 6,
     "metadata": {},
     "output_type": "execute_result"
    }
   ],
   "source": [
    "def square (x):\n",
    "    return x**2\n",
    "square(2)\n"
   ]
  },
  {
   "cell_type": "code",
   "execution_count": 9,
   "metadata": {},
   "outputs": [
    {
     "data": {
      "text/plain": [
       "[1, 4, 9, 16, 25]"
      ]
     },
     "execution_count": 9,
     "metadata": {},
     "output_type": "execute_result"
    }
   ],
   "source": [
    "l=[1,2,3,4,5]\n",
    "list(map(square,l ))"
   ]
  },
  {
   "cell_type": "code",
   "execution_count": 10,
   "metadata": {},
   "outputs": [
    {
     "data": {
      "text/plain": [
       "[1, 2, 3, 4, 5]"
      ]
     },
     "execution_count": 10,
     "metadata": {},
     "output_type": "execute_result"
    }
   ],
   "source": [
    "l=[1,2,3,4,5]\n",
    "list(map(lambda x :x,l ))"
   ]
  },
  {
   "cell_type": "code",
   "execution_count": 11,
   "metadata": {},
   "outputs": [
    {
     "data": {
      "text/plain": [
       "[1, 4, 9, 16, 25]"
      ]
     },
     "execution_count": 11,
     "metadata": {},
     "output_type": "execute_result"
    }
   ],
   "source": [
    "l=[1,2,3,4,5]\n",
    "list(map(lambda x :x**2,l ))"
   ]
  },
  {
   "cell_type": "code",
   "execution_count": 5,
   "metadata": {},
   "outputs": [
    {
     "data": {
      "text/plain": [
       "15"
      ]
     },
     "execution_count": 5,
     "metadata": {},
     "output_type": "execute_result"
    }
   ],
   "source": [
    "from functools import reduce\n",
    "\n",
    "reduce(lambda x,y: x+y , l)"
   ]
  },
  {
   "cell_type": "code",
   "execution_count": 1,
   "metadata": {},
   "outputs": [],
   "source": [
    "def funcMaxDifference(inputArr):\n",
    "    # Initialize variables\n",
    "    min_element = inputArr[0]\n",
    "    max_diff = 0\n",
    "    \n",
    "    # Traverse through the array\n",
    "    for i in range(1, len(inputArr)):\n",
    "        # Update max difference\n",
    "        max_diff = max(max_diff, inputArr[i] - min_element)\n",
    "        # Update min element\n",
    "        min_element = min(min_element, inputArr[i])\n",
    "    \n",
    "    return max_diff"
   ]
  },
  {
   "cell_type": "code",
   "execution_count": 5,
   "metadata": {},
   "outputs": [
    {
     "data": {
      "text/plain": [
       "8"
      ]
     },
     "execution_count": 5,
     "metadata": {},
     "output_type": "execute_result"
    }
   ],
   "source": [
    "funcMaxDifference([2,3,10,6,4,8,1])"
   ]
  },
  {
   "cell_type": "code",
   "execution_count": 6,
   "metadata": {},
   "outputs": [
    {
     "data": {
      "text/plain": [
       "0"
      ]
     },
     "execution_count": 6,
     "metadata": {},
     "output_type": "execute_result"
    }
   ],
   "source": [
    "funcMaxDifference([4,3,1])"
   ]
  },
  {
   "cell_type": "code",
   "execution_count": 7,
   "metadata": {},
   "outputs": [],
   "source": [
    "def maxSum(inputArr):\n",
    "    # Edge case: If there are no jars\n",
    "    if not inputArr:\n",
    "        return 0\n",
    "    \n",
    "    n = len(inputArr)\n",
    "    if n == 1:\n",
    "        return inputArr[0]\n",
    "    \n",
    "    # Dynamic programming array to store maximum sums\n",
    "    dp = [0] * n\n",
    "    dp[0] = inputArr[0]\n",
    "    dp[1] = max(inputArr[0], inputArr[1])\n",
    "\n",
    "    # Calculate the maximum sum without picking from adjacent jars\n",
    "    for i in range(2, n):\n",
    "        dp[i] = max(dp[i - 1], inputArr[i] + dp[i - 2])\n",
    "    \n",
    "    return dp[-1]"
   ]
  },
  {
   "cell_type": "code",
   "execution_count": 8,
   "metadata": {},
   "outputs": [
    {
     "data": {
      "text/plain": [
       "114"
      ]
     },
     "execution_count": 8,
     "metadata": {},
     "output_type": "execute_result"
    }
   ],
   "source": [
    "maxSum([5,30,99,60,5,10])"
   ]
  },
  {
   "cell_type": "code",
   "execution_count": 17,
   "metadata": {},
   "outputs": [],
   "source": [
    "def funcDrop(xCoordinate, yCoordinate):\n",
    "    from collections import defaultdict\n",
    "    \n",
    "    # Group points based on x and y coordinates\n",
    "    x_groups = defaultdict(int)\n",
    "    y_groups = defaultdict(int)\n",
    "    \n",
    "    # Count frequencies based on x and y coordinates\n",
    "    for i in range(len(xCoordinate)):\n",
    "        x_groups[xCoordinate[i]] += 1\n",
    "        y_groups[yCoordinate[i]] += 1\n",
    "    \n",
    "    # Find the maximum size of connected points\n",
    "    max_x = max(x_groups.values())\n",
    "    max_y = max(y_groups.values())\n",
    "    \n",
    "    # Return the maximum size of valid paths\n",
    "    return max(max_x, max_y)"
   ]
  },
  {
   "cell_type": "code",
   "execution_count": 34,
   "metadata": {},
   "outputs": [
    {
     "data": {
      "text/plain": [
       "2"
      ]
     },
     "execution_count": 34,
     "metadata": {},
     "output_type": "execute_result"
    }
   ],
   "source": [
    "funcDrop([2,3,2,6,4], [2,2,6,5,8])\n"
   ]
  },
  {
   "cell_type": "code",
   "execution_count": 19,
   "metadata": {},
   "outputs": [],
   "source": [
    "def funcDrop(xCoordinate, yCoordinate):\n",
    "    # Initialize dictionaries to store counts of points at each x and y coordinate\n",
    "    x_points = {}  # For counting points sharing same x-coordinate\n",
    "    y_points = {}  # For counting points sharing same y-coordinate\n",
    "    \n",
    "    # Create a set of all points for easy lookup\n",
    "    points = set()\n",
    "    for x in xCoordinate:\n",
    "        for y in yCoordinate:\n",
    "            points.add((x, y))\n",
    "    \n",
    "    # Count points sharing the same x-coordinate (for vertical paths)\n",
    "    for x in xCoordinate:\n",
    "        count = 0\n",
    "        for y in yCoordinate:\n",
    "            if (x, y) in points:\n",
    "                count += 1\n",
    "        if count > 0:  # Only store if there are points on this x-coordinate\n",
    "            x_points[x] = count\n",
    "    \n",
    "    # Count points sharing the same y-coordinate (for horizontal paths)\n",
    "    for y in yCoordinate:\n",
    "        count = 0\n",
    "        for x in xCoordinate:\n",
    "            if (x, y) in points:\n",
    "                count += 1\n",
    "        if count > 0:  # Only store if there are points on this y-coordinate\n",
    "            y_points[y] = count\n",
    "    \n",
    "    # Find the maximum points that can be covered\n",
    "    max_vertical = max(x_points.values()) if x_points else 0  # Maximum points on any vertical line\n",
    "    max_horizontal = max(y_points.values()) if y_points else 0  # Maximum points on any horizontal line\n",
    "    \n",
    "    # Return the better of horizontal or vertical paths\n",
    "    return max(max_vertical, max_horizontal)"
   ]
  },
  {
   "cell_type": "code",
   "execution_count": 21,
   "metadata": {},
   "outputs": [],
   "source": [
    "def funcDrop(xCoordinate, yCoordinate):\n",
    "    # Create set of points that exist\n",
    "    points = set()\n",
    "    for x, y in zip(xCoordinate, yCoordinate):\n",
    "        points.add((x, y))\n",
    "    \n",
    "    # Function to count points on a horizontal line at given y-coordinate\n",
    "    def count_horizontal(y):\n",
    "        count = 0\n",
    "        x_vals = sorted(x for x, y_coord in points if y_coord == y)\n",
    "        if not x_vals:\n",
    "            return 0\n",
    "        return len(x_vals)\n",
    "\n",
    "    # Function to count points on a vertical line at given x-coordinate\n",
    "    def count_vertical(x):\n",
    "        count = 0\n",
    "        y_vals = sorted(y for x_coord, y in points if x_coord == x)\n",
    "        if not y_vals:\n",
    "            return 0\n",
    "        return len(y_vals)\n",
    "\n",
    "    # Find maximum points on any horizontal line\n",
    "    max_horizontal = max(count_horizontal(y) for y in set(y for _, y in points))\n",
    "    \n",
    "    # Find maximum points on any vertical line\n",
    "    max_vertical = max(count_vertical(x) for x in set(x for x, _ in points))\n",
    "    \n",
    "    return max(max_horizontal, max_vertical)"
   ]
  },
  {
   "cell_type": "code",
   "execution_count": 23,
   "metadata": {},
   "outputs": [],
   "source": [
    "def funcDrop_with_comments(xCoordinate, yCoordinate):\n",
    "\n",
    "    # Check if the length of xCoordinate and yCoordinate are the same.\n",
    "\n",
    "    # If not, return 0 as no valid path can be formed.\n",
    "\n",
    "    print(xCoordinate)\n",
    "    print(yCoordinate)\n",
    "\n",
    "    N = len(xCoordinate)\n",
    "\n",
    "    M = len(yCoordinate)\n",
    "\n",
    "    if N != M:\n",
    "\n",
    "        return 0\n",
    "\n",
    "   \n",
    "\n",
    "    # Initialize dictionaries to keep track of how many times each x and y coordinate appears.\n",
    "\n",
    "    rowCount = {}\n",
    "\n",
    "    colCount = {}\n",
    "\n",
    "\n",
    "\n",
    "    # Initialize max_cover to keep track of the maximum number of points that can be covered.\n",
    "\n",
    "    max_cover = 0\n",
    "\n",
    "\n",
    "\n",
    "    # Count the occurrences of each x and y coordinate.\n",
    "\n",
    "    for i in range(N):\n",
    "\n",
    "        rowCount[xCoordinate[i]] = rowCount.get(xCoordinate[i], 0) + 1\n",
    "\n",
    "        colCount[yCoordinate[i]] = colCount.get(yCoordinate[i], 0) + 1\n",
    "\n",
    "\n",
    "\n",
    "    # Find the maximum count among all x and y coordinates.\n",
    "\n",
    "    max_cover = max(max(rowCount.values()), max(colCount.values()))\n",
    "\n",
    "\n",
    "\n",
    "    # Filter out x and y coordinates that appear only once, as they cannot form a valid path.\n",
    "\n",
    "    rowCount = {k: v for k, v in rowCount.items() if v > 1}\n",
    "\n",
    "    colCount = {k: v for k, v in colCount.items() if v > 1}\n",
    "\n",
    "\n",
    "\n",
    "    # Update max_cover based on the filtered x and y coordinates.\n",
    "\n",
    "    if rowCount:\n",
    "\n",
    "        max_row = max(rowCount.values())\n",
    "\n",
    "    else:\n",
    "\n",
    "        max_row = 0\n",
    "\n",
    "\n",
    "\n",
    "    if colCount:\n",
    "\n",
    "        max_col = max(colCount.values())\n",
    "\n",
    "    else:\n",
    "\n",
    "        max_col = 0\n",
    "\n",
    "\n",
    "\n",
    "    max_cover = max(max_row, max_col)\n",
    "\n",
    "   \n",
    "\n",
    "    return max_cover"
   ]
  },
  {
   "cell_type": "code",
   "execution_count": 25,
   "metadata": {},
   "outputs": [],
   "source": [
    "def funcDrop(xCoordinate, yCoordinate):\n",
    "    # Validate input lengths\n",
    "    if len(xCoordinate) != len(yCoordinate):\n",
    "        return 0\n",
    "    \n",
    "    # Count occurrences for x and y coordinates\n",
    "    rowCount = {}\n",
    "    colCount = {}\n",
    "    \n",
    "    for i in range(len(xCoordinate)):\n",
    "        rowCount[xCoordinate[i]] = rowCount.get(xCoordinate[i], 0) + 1\n",
    "        colCount[yCoordinate[i]] = colCount.get(yCoordinate[i], 0) + 1\n",
    "    \n",
    "    # Find the maximum count in x and y coordinates\n",
    "    max_row = max(rowCount.values())\n",
    "    max_col = max(colCount.values())\n",
    "    \n",
    "    # Return the maximum valid path\n",
    "    return max(max_row, max_col)"
   ]
  },
  {
   "cell_type": "code",
   "execution_count": 31,
   "metadata": {},
   "outputs": [
    {
     "name": "stdout",
     "output_type": "stream",
     "text": [
      "2\n"
     ]
    }
   ],
   "source": [
    "print(funcDrop([2, 3, 2, 6, 4], [2, 2, 6, 5, 8]))"
   ]
  },
  {
   "cell_type": "code",
   "execution_count": 28,
   "metadata": {},
   "outputs": [],
   "source": [
    "def funcDrop(xCoordinate, yCoordinate):\n",
    "    # Validate input lengths\n",
    "    if len(xCoordinate) != len(yCoordinate):\n",
    "        return 0\n",
    "    \n",
    "    # Count occurrences for x and y coordinates\n",
    "    rowCount = {}\n",
    "    colCount = {}\n",
    "    \n",
    "    for i in range(len(xCoordinate)):\n",
    "        rowCount[xCoordinate[i]] = rowCount.get(xCoordinate[i], 0) + 1\n",
    "        colCount[yCoordinate[i]] = colCount.get(yCoordinate[i], 0) + 1\n",
    "    \n",
    "    # Find the maximum count in x and y coordinates\n",
    "    max_row = max(rowCount.values())\n",
    "    max_col = max(colCount.values())\n",
    "    \n",
    "    # Return the maximum valid path\n",
    "    return max(max_row, max_col)"
   ]
  },
  {
   "cell_type": "code",
   "execution_count": 30,
   "metadata": {},
   "outputs": [],
   "source": [
    "def funcDrop(xCoordinate, yCoordinate):\n",
    "    from collections import defaultdict\n",
    "    \n",
    "    # Validate input lengths\n",
    "    if len(xCoordinate) != len(yCoordinate):\n",
    "        return 0\n",
    "    \n",
    "    # Group points by x and y coordinates\n",
    "    x_groups = defaultdict(list)\n",
    "    y_groups = defaultdict(list)\n",
    "    \n",
    "    for i in range(len(xCoordinate)):\n",
    "        x_groups[xCoordinate[i]].append(yCoordinate[i])\n",
    "        y_groups[yCoordinate[i]].append(xCoordinate[i])\n",
    "    \n",
    "    # Find maximum length of connected points\n",
    "    max_x = 0\n",
    "    max_y = 0\n",
    "    \n",
    "    # Count connected points in each x group\n",
    "    for x in x_groups:\n",
    "        max_x = max(max_x, len(x_groups[x]))\n",
    "    \n",
    "    # Count connected points in each y group\n",
    "    for y in y_groups:\n",
    "        max_y = max(max_y, len(y_groups[y]))\n",
    "    \n",
    "    # Return the maximum valid path\n",
    "    return max(max_x, max_y)"
   ]
  },
  {
   "cell_type": "code",
   "execution_count": 43,
   "metadata": {},
   "outputs": [],
   "source": [
    "def funcDropLatest(xCoordinate, yCoordinate):\n",
    "    from collections import defaultdict\n",
    "    \n",
    "    # Validate input lengths\n",
    "    if len(xCoordinate) != len(yCoordinate):\n",
    "        return 0\n",
    "    \n",
    "    # Count occurrences for x and y coordinates\n",
    "    x_count = defaultdict(int)\n",
    "    y_count = defaultdict(int)\n",
    "    \n",
    "    # Count the number of points for each x and y coordinate\n",
    "    for i in range(len(xCoordinate)):\n",
    "        x_count[xCoordinate[i]] += 1\n",
    "        y_count[yCoordinate[i]] += 1\n",
    "    \n",
    "    # Find the maximum valid connected paths\n",
    "    max_x = max(x_count.values())  # Horizontal paths\n",
    "    max_y = max(y_count.values())  # Vertical paths\n",
    "    \n",
    "    # Return the maximum of both\n",
    "    return max(max_x, max_y)\n",
    "    "
   ]
  },
  {
   "cell_type": "code",
   "execution_count": 45,
   "metadata": {},
   "outputs": [
    {
     "name": "stdout",
     "output_type": "stream",
     "text": [
      "3\n"
     ]
    }
   ],
   "source": [
    "print(funcDropLatest([2, 3, 2, 4, 2], [2, 2, 6, 5, 8]))"
   ]
  },
  {
   "cell_type": "code",
   "execution_count": 44,
   "metadata": {},
   "outputs": [
    {
     "name": "stdout",
     "output_type": "stream",
     "text": [
      "3\n"
     ]
    }
   ],
   "source": [
    "print(funcDrop_with_comments([2, 3, 2, 4, 2], [2, 2, 6, 5, 8]))"
   ]
  },
  {
   "cell_type": "code",
   "execution_count": null,
   "metadata": {},
   "outputs": [],
   "source": []
  }
 ],
 "metadata": {
  "kernelspec": {
   "display_name": "Python 3",
   "language": "python",
   "name": "python3"
  },
  "language_info": {
   "codemirror_mode": {
    "name": "ipython",
    "version": 3
   },
   "file_extension": ".py",
   "mimetype": "text/x-python",
   "name": "python",
   "nbconvert_exporter": "python",
   "pygments_lexer": "ipython3",
   "version": "3.11.4"
  }
 },
 "nbformat": 4,
 "nbformat_minor": 2
}
